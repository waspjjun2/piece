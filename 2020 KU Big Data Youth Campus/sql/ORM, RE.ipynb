{
 "cells": [
  {
   "cell_type": "code",
   "execution_count": null,
   "metadata": {},
   "outputs": [],
   "source": [
    "import sqlalchemy\n",
    "from sqlalchemy import create_engine"
   ]
  },
  {
   "cell_type": "code",
   "execution_count": null,
   "metadata": {},
   "outputs": [],
   "source": [
    "engine = create_engine('sqlite:///:memory:', echo = True)"
   ]
  },
  {
   "cell_type": "code",
   "execution_count": null,
   "metadata": {},
   "outputs": [],
   "source": [
    "from sqlalchemy import MetaData, Table, Column, Integer, String, ForeignKey"
   ]
  },
  {
   "cell_type": "code",
   "execution_count": null,
   "metadata": {},
   "outputs": [],
   "source": [
    "meta = MetaData()\n",
    "users = Table('users', meta,\n",
    "              Column('id', Integer, primary_key=True),\n",
    "              Column('name', String),\n",
    "              Column('fullname', String))\n",
    "\n",
    "addr = Table('address', meta,\n",
    "             Column('id', Integer, primary_key=True),\n",
    "             Column('users.id', Integer, ForeignKey('users.id')),\n",
    "            Column('email', String, nullable=True))"
   ]
  },
  {
   "cell_type": "code",
   "execution_count": null,
   "metadata": {},
   "outputs": [],
   "source": [
    "meta.create_all(engine)"
   ]
  },
  {
   "cell_type": "code",
   "execution_count": null,
   "metadata": {},
   "outputs": [],
   "source": [
    "meta.tables"
   ]
  },
  {
   "cell_type": "code",
   "execution_count": null,
   "metadata": {},
   "outputs": [],
   "source": [
    "meta.bind # binding이 안되서 db와 연동 x"
   ]
  },
  {
   "cell_type": "code",
   "execution_count": null,
   "metadata": {},
   "outputs": [],
   "source": [
    "print(users.insert())"
   ]
  },
  {
   "cell_type": "code",
   "execution_count": null,
   "metadata": {},
   "outputs": [],
   "source": [
    "insert = users.insert().values(name='test', fullname = 'LJH')\n",
    "print(insert)\n",
    "print(insert.compile())\n",
    "print(insert.compile().params)"
   ]
  },
  {
   "cell_type": "code",
   "execution_count": null,
   "metadata": {},
   "outputs": [],
   "source": [
    "conn = engine.connect()"
   ]
  },
  {
   "cell_type": "code",
   "execution_count": null,
   "metadata": {},
   "outputs": [],
   "source": [
    "conn.execute(insert)"
   ]
  },
  {
   "cell_type": "code",
   "execution_count": null,
   "metadata": {},
   "outputs": [],
   "source": [
    "print(users.select().compile())"
   ]
  },
  {
   "cell_type": "code",
   "execution_count": null,
   "metadata": {},
   "outputs": [],
   "source": [
    "cur = conn.execute(users.select())\n",
    "print(cur)"
   ]
  },
  {
   "cell_type": "code",
   "execution_count": null,
   "metadata": {},
   "outputs": [],
   "source": [
    "list(cur)"
   ]
  },
  {
   "cell_type": "code",
   "execution_count": null,
   "metadata": {},
   "outputs": [],
   "source": [
    "cur = conn.execute(users.insert(),\n",
    "                   {'name':'test2', 'fullname':'test2test2'})"
   ]
  },
  {
   "cell_type": "code",
   "execution_count": null,
   "metadata": {},
   "outputs": [],
   "source": [
    "cur.lastrowid"
   ]
  },
  {
   "cell_type": "code",
   "execution_count": null,
   "metadata": {},
   "outputs": [],
   "source": [
    "from sqlalchemy import select\n",
    "print(select([users.c.name, users.c.fullname]))\n",
    "print('---------')\n",
    "cur = select([users.c.name, users.c.fullname]) # .c = column\n",
    "print('---------')\n",
    "print(list(cur))"
   ]
  },
  {
   "cell_type": "code",
   "execution_count": null,
   "metadata": {},
   "outputs": [],
   "source": [
    "print(users.c.id == 1)\n",
    "print((users.c.id == 1).compile().params)"
   ]
  },
  {
   "cell_type": "code",
   "execution_count": null,
   "metadata": {},
   "outputs": [],
   "source": [
    "cur = conn.execute(users.select().where(users.c.id==1))\n",
    "list(cur)"
   ]
  },
  {
   "cell_type": "code",
   "execution_count": null,
   "metadata": {},
   "outputs": [],
   "source": [
    "conn.execute(addr.insert(), {'userid':1, 'email':'1@1.com'})\n",
    "cur.lastrowid"
   ]
  },
  {
   "cell_type": "code",
   "execution_count": null,
   "metadata": {},
   "outputs": [],
   "source": [
    "from sqlalchemy import join"
   ]
  },
  {
   "cell_type": "code",
   "execution_count": null,
   "metadata": {},
   "outputs": [],
   "source": [
    "conn.execute(insert)"
   ]
  },
  {
   "cell_type": "code",
   "execution_count": null,
   "metadata": {},
   "outputs": [],
   "source": [
    "print(users.join(addr))\n",
    "print(select([users.c.name, users.c.fullname, addr.c.email])\\.select_from(users.join(addr)))"
   ]
  },
  {
   "cell_type": "code",
   "execution_count": null,
   "metadata": {},
   "outputs": [],
   "source": [
    "conn.execute(addr.insert(), {'usersid':1, 'email':'dsfasf'})\n",
    "conn.execute(addr.select()).fetchall()"
   ]
  },
  {
   "cell_type": "code",
   "execution_count": null,
   "metadata": {},
   "outputs": [],
   "source": []
  },
  {
   "cell_type": "code",
   "execution_count": null,
   "metadata": {},
   "outputs": [],
   "source": []
  },
  {
   "cell_type": "code",
   "execution_count": null,
   "metadata": {},
   "outputs": [],
   "source": [
    "from sqlalchemy import create_engine, MetaData, Table, Column, Integer, String, ForeignKey, select, insert\n",
    "engine = create_engine('sqlite:///ex3.db', echo=True)\n",
    "engine"
   ]
  },
  {
   "cell_type": "code",
   "execution_count": null,
   "metadata": {},
   "outputs": [],
   "source": [
    "meta = MetaData()\n",
    "\n",
    "users = Table('user', meta,\n",
    "              Column('id', Integer, Primary_key=True),\n",
    "              Column('id', Integer, nullable = False)\n",
    "             )\n",
    "\n",
    "addr = Table('address', meta,\n",
    "            Column('id', Integer, primary_key=True),\n",
    "            Column('user_id', Integer, ForeignKey('user.id')),\n",
    "            Column('email', String))"
   ]
  },
  {
   "cell_type": "code",
   "execution_count": null,
   "metadata": {},
   "outputs": [],
   "source": [
    "meta.create_all(engine) # 진행과정 보기"
   ]
  },
  {
   "cell_type": "code",
   "execution_count": null,
   "metadata": {},
   "outputs": [],
   "source": [
    "engine.execute(users.insert(), [{'name':'1'}, {'name': 2}])"
   ]
  },
  {
   "cell_type": "code",
   "execution_count": null,
   "metadata": {},
   "outputs": [],
   "source": [
    "engine.execute(addr.insert(), \n",
    "              [{'user_id' : 1, 'email':'1@com'},\n",
    "               {'user_id' : 1, 'email':'1@com'}])"
   ]
  },
  {
   "cell_type": "code",
   "execution_count": null,
   "metadata": {},
   "outputs": [],
   "source": [
    "cur = engine.execute(select([users.c.name, addr.c.email]).select_from(users.join(addr)))\n",
    "cur.fetchall()"
   ]
  },
  {
   "cell_type": "code",
   "execution_count": null,
   "metadata": {},
   "outputs": [],
   "source": []
  },
  {
   "cell_type": "code",
   "execution_count": null,
   "metadata": {},
   "outputs": [],
   "source": [
    "# session 오류나면 kernel reset 시키기\n",
    "\n",
    "from sqlalchemy import create_engine, Column, Integer, String\n",
    "from sqlalchemy.ext.declarative import declarative_base"
   ]
  },
  {
   "cell_type": "code",
   "execution_count": null,
   "metadata": {},
   "outputs": [],
   "source": [
    "engine = create_engine('sqlite:///ex4.db', echo=True)"
   ]
  },
  {
   "cell_type": "code",
   "execution_count": null,
   "metadata": {},
   "outputs": [],
   "source": [
    "base = declarative_base()"
   ]
  },
  {
   "cell_type": "code",
   "execution_count": null,
   "metadata": {},
   "outputs": [],
   "source": [
    "class User(base):\n",
    "    __tablename__ = 'User'\n",
    "    \n",
    "    uid = Column('uid', Integer, primary_key=True)\n",
    "    name = Column('name', String, nullable=False)\n",
    "    password = Column('pass', String, nullable=False)\n",
    "    \n",
    "    def __repr__(self): # representation\n",
    "        return 'UID={0}, NAME={1}, PASS={2}'.format(self.uid, self.name, self.password)"
   ]
  },
  {
   "cell_type": "code",
   "execution_count": null,
   "metadata": {},
   "outputs": [],
   "source": [
    "User.__table__"
   ]
  },
  {
   "cell_type": "code",
   "execution_count": null,
   "metadata": {},
   "outputs": [],
   "source": [
    "# in-memory table객체들 -> 실제 database table로 생성\n",
    "base.metadata.create_all(bind=engine)"
   ]
  },
  {
   "cell_type": "code",
   "execution_count": null,
   "metadata": {},
   "outputs": [],
   "source": [
    "## Metadata class에 등록된 table 객체 초기화할 떼\n",
    "base.metadata.clear()"
   ]
  },
  {
   "cell_type": "code",
   "execution_count": null,
   "metadata": {},
   "outputs": [],
   "source": [
    "user1 = User(name='jun', password='heui')"
   ]
  },
  {
   "cell_type": "code",
   "execution_count": null,
   "metadata": {},
   "outputs": [],
   "source": [
    "user1"
   ]
  },
  {
   "cell_type": "code",
   "execution_count": null,
   "metadata": {},
   "outputs": [],
   "source": [
    "from sqlalchemy.orm import sessionmaker\n",
    "\n",
    "Session = sessionmaker(bind=engine)\n",
    "session = Session()"
   ]
  },
  {
   "cell_type": "code",
   "execution_count": null,
   "metadata": {},
   "outputs": [],
   "source": [
    "session.add(user1)"
   ]
  },
  {
   "cell_type": "code",
   "execution_count": null,
   "metadata": {},
   "outputs": [],
   "source": [
    "session.commit() # 실제 table column 붙이고 데이터 만드는 과정 포함"
   ]
  },
  {
   "cell_type": "code",
   "execution_count": null,
   "metadata": {},
   "outputs": [],
   "source": [
    "# Instances are considered dirty when they were modified but not deleted\n",
    "# Return True if the given instance has locally modified attributes\n",
    "session.dirty, session.is_modified "
   ]
  },
  {
   "cell_type": "code",
   "execution_count": null,
   "metadata": {},
   "outputs": [],
   "source": [
    "user1.name = '이준희'; session.commit() # update"
   ]
  },
  {
   "cell_type": "code",
   "execution_count": null,
   "metadata": {},
   "outputs": [],
   "source": [
    "user1"
   ]
  },
  {
   "cell_type": "code",
   "execution_count": null,
   "metadata": {},
   "outputs": [],
   "source": [
    "session.add_all([User(name='test2', password='123'),\n",
    "               User(name='test3', password='123')])\n"
   ]
  },
  {
   "cell_type": "code",
   "execution_count": null,
   "metadata": {},
   "outputs": [],
   "source": [
    "cur = session.query(User)\n",
    "list(cur)"
   ]
  },
  {
   "cell_type": "code",
   "execution_count": null,
   "metadata": {},
   "outputs": [],
   "source": []
  },
  {
   "cell_type": "code",
   "execution_count": null,
   "metadata": {},
   "outputs": [],
   "source": [
    "#  Apply the given filtering criterion to a copy of this Query, using SQL expressions\n",
    "[_ for _ in session.query(User).filter(User.name=='test2')]"
   ]
  },
  {
   "cell_type": "code",
   "execution_count": null,
   "metadata": {},
   "outputs": [],
   "source": [
    "[_ for _ in session.query(User).filter(User.name.like('test%'))]"
   ]
  },
  {
   "cell_type": "code",
   "execution_count": null,
   "metadata": {},
   "outputs": [],
   "source": []
  },
  {
   "cell_type": "code",
   "execution_count": null,
   "metadata": {},
   "outputs": [],
   "source": []
  },
  {
   "cell_type": "code",
   "execution_count": null,
   "metadata": {},
   "outputs": [],
   "source": []
  },
  {
   "cell_type": "code",
   "execution_count": null,
   "metadata": {},
   "outputs": [],
   "source": [
    "# session 오류나면 kernel reset 시키기\n",
    "\n",
    "from sqlalchemy import create_engine, Column, Integer, String\n",
    "from sqlalchemy.ext.declarative import declarative_base\n",
    "from sqlalchemy import ForeignKey\n",
    "\n",
    "\n",
    "engine = create_engine('sqlite:///ex5.db', echo=True)\n",
    "base = declarative_base()"
   ]
  },
  {
   "cell_type": "code",
   "execution_count": null,
   "metadata": {},
   "outputs": [],
   "source": [
    "## Metadata class에 등록된 table 객체 초기화할 떼\n",
    "base.metadata.clear()"
   ]
  },
  {
   "cell_type": "code",
   "execution_count": null,
   "metadata": {},
   "outputs": [],
   "source": [
    "class Artist(base):\n",
    "    __tablename__ = 'ARTIST'\n",
    "    \n",
    "    pk = Column('ID', Integer, primary_key=True)\n",
    "    name = Column('NAME', String)\n",
    "    \n",
    "    def __repr__(self):\n",
    "        return 'PK:{0}, NAME:{1}'.format(self.pk, self.name)\n",
    "    \n",
    "class Album(base):\n",
    "    __tablename__ = 'ALBUM'\n",
    "    \n",
    "    pk = Column('ID', Integer, primary_key=True)\n",
    "    name = Column('NAME', String)\n",
    "    fk = Column('FK', Integer, ForeignKey('ARTIST.ID'))\n",
    "    \n",
    "    def __repr__(self):\n",
    "        return 'PK:{0}, NAME:{1}'.format(self.pk, self.name)\n",
    "\n",
    "class Genre(base):\n",
    "    __tablename__ = 'GENRE'\n",
    "    \n",
    "    pk = Column('ID', Integer, primary_key=True)\n",
    "    name = Column('NAME', String)\n",
    "    fk = Column('FK', Integer, ForeignKey('ARTIST.ID'))\n",
    "    \n",
    "    def __repr__(self):\n",
    "        return 'PK:{0}, NAME:{1}, FK:{2}'.format(\n",
    "            self.pk, self.name, self.fk)\n",
    "    \n",
    "class Track(base):\n",
    "    __tablename__ = 'Track'\n",
    "    \n",
    "    pk = Column('ID', Integer, primary_key=True)\n",
    "    name = Column('NAME', String)\n",
    "    fk1 = Column('FK1', Integer, ForeignKey('ALBUM.ID'))\n",
    "    fk2 = Column('FK2', Integer, ForeignKey('GENRE.ID'))\n",
    "    \n",
    "    def __repr__(self):\n",
    "        return 'PK:{0}, NAME:{1}, FK1:{2}, FK2:{3}'.format(\n",
    "            self.pk, self.name, self.fk1, self.fk2)"
   ]
  },
  {
   "cell_type": "code",
   "execution_count": null,
   "metadata": {},
   "outputs": [],
   "source": []
  },
  {
   "cell_type": "code",
   "execution_count": null,
   "metadata": {},
   "outputs": [],
   "source": [
    "base.metadata.create_all(bind=engine)"
   ]
  },
  {
   "cell_type": "code",
   "execution_count": null,
   "metadata": {},
   "outputs": [],
   "source": [
    "from sqlalchemy.orm import sessionmaker\n",
    "\n",
    "Session = sessionmaker(bind=engine)\n",
    "session = Session()"
   ]
  },
  {
   "cell_type": "code",
   "execution_count": null,
   "metadata": {},
   "outputs": [],
   "source": [
    "session.commit()"
   ]
  },
  {
   "cell_type": "code",
   "execution_count": null,
   "metadata": {},
   "outputs": [],
   "source": []
  },
  {
   "cell_type": "code",
   "execution_count": null,
   "metadata": {},
   "outputs": [],
   "source": [
    "# insert\n",
    "a1 = Artist(name = 'a1')\n",
    "a2 = Artist(name = 'a2')\n",
    "session.add_all([a1, a2])\n",
    "session.commit()"
   ]
  },
  {
   "cell_type": "code",
   "execution_count": null,
   "metadata": {},
   "outputs": [],
   "source": [
    "g1 = Genre(name = 'g1')\n",
    "g2 = Genre(name = 'g2')\n",
    "session.add_all([g1, g2])\n",
    "session.commit()"
   ]
  },
  {
   "cell_type": "code",
   "execution_count": null,
   "metadata": {},
   "outputs": [],
   "source": [
    "session.add_all([\n",
    "    Album(name='album1', fk=a1.pk),\n",
    "    Album(name='album2', fk=a2.pk),\n",
    "])\n",
    "session.commit()"
   ]
  },
  {
   "cell_type": "code",
   "execution_count": null,
   "metadata": {},
   "outputs": [],
   "source": [
    "[_[0] for _ in session.query(Album)]"
   ]
  },
  {
   "cell_type": "code",
   "execution_count": null,
   "metadata": {},
   "outputs": [],
   "source": [
    "al1 = session.query(Album).filter(Album.fk = a1.pk).one()\n",
    "al2 = session.query(Album).filter(Album.fk = a2.pk).one()"
   ]
  },
  {
   "cell_type": "code",
   "execution_count": null,
   "metadata": {},
   "outputs": [],
   "source": [
    "session.add_all([\n",
    "    Track(name='track1', fk=al1.pk, fk2=g1.pk),\n",
    "    Track(name='track2', fk=al1.pk, fk2=g1.pk),\n",
    "    Track(name='track3', fk=al1.pk, fk2=g1.pk),\n",
    "    Track(name='track4', fk=al1.pk, fk2=g1.pk),\n",
    "])\n",
    "session.commit()"
   ]
  },
  {
   "cell_type": "code",
   "execution_count": null,
   "metadata": {},
   "outputs": [],
   "source": [
    "tracklist = session.query(Track).all()\n",
    "tracklist[2].fk1 = tracklist[3].fk1 = 4\n",
    "session.commit()"
   ]
  },
  {
   "cell_type": "code",
   "execution_count": null,
   "metadata": {},
   "outputs": [],
   "source": [
    "a1, a2, "
   ]
  },
  {
   "cell_type": "code",
   "execution_count": null,
   "metadata": {},
   "outputs": [],
   "source": [
    "list(session.query(Track))"
   ]
  },
  {
   "cell_type": "code",
   "execution_count": null,
   "metadata": {},
   "outputs": [],
   "source": [
    "session.query(Artist.name, Album.name, Genre.name, Track.name)\\\n",
    ".select_from(Track)\\\n",
    ".join(Genre).join(Album).join(Artist).all()\n",
    "\n",
    "for _ in result:\n",
    "    print('Artist:{0}, Album:{1}, Genre:{2}, Track:{3}'.format(\n",
    "    _[0],_[1],_[2],_[3]))"
   ]
  },
  {
   "cell_type": "code",
   "execution_count": null,
   "metadata": {},
   "outputs": [],
   "source": [
    "## 나중에 다시 받기"
   ]
  },
  {
   "cell_type": "code",
   "execution_count": null,
   "metadata": {},
   "outputs": [],
   "source": []
  },
  {
   "cell_type": "code",
   "execution_count": 1,
   "metadata": {},
   "outputs": [],
   "source": [
    "from sqlalchemy import create_engine, Column, Integer, String\n",
    "from sqlalchemy.ext.declarative import declarative_base\n",
    "from sqlalchemy import ForeignKey\n",
    "from sqlalchemy.orm import relationship, backref"
   ]
  },
  {
   "cell_type": "code",
   "execution_count": 2,
   "metadata": {},
   "outputs": [],
   "source": [
    "engine = create_engine('sqlite:///playlist.db', echo=True)\n",
    "base = declarative_base()\n",
    "## Metadata class에 등록된 table 객체 초기화할 떼\n",
    "base.metadata.clear()"
   ]
  },
  {
   "cell_type": "code",
   "execution_count": 3,
   "metadata": {},
   "outputs": [],
   "source": [
    "class Artist(base):\n",
    "    __tablename__ = 'Artist'\n",
    "    \n",
    "    pk = Column('id', Integer, primary_key=True)\n",
    "    name = Column('title', String)\n",
    "    albumlist = relationship('Album', back_populates='artist')  \n",
    "    \n",
    "    def __repr__(self):\n",
    "        return 'PK:{0}, NAME:{1}'.format(self.pk, self.name)\n",
    "\n",
    "class Genre(base):\n",
    "    __tablename__ = 'Genre'\n",
    "    \n",
    "    pk = Column('id', Integer, primary_key=True)\n",
    "    name = Column('title', String)\n",
    "    tracklist = relationship('Track', back_populates='genre')\n",
    "    \n",
    "    def __repr__(self):\n",
    "        return 'PK:{0}, NAME:{1}'.format(self.pk, self.name)\n",
    "\n",
    "class Album(base):\n",
    "    __tablename__ = 'Album'\n",
    "    \n",
    "    pk = Column('id', Integer, primary_key=True)\n",
    "    name = Column('title', String)\n",
    "    fk = Column('Artist_id', Integer, ForeignKey('Artist.id'))\n",
    "    artist = relationship('Artist', back_populates='albumlist',\n",
    "                         uselist=False) # 1: n\n",
    "    tracklist = relationship('Track', back_populates='album')\n",
    "    \n",
    "    def __repr__(self):\n",
    "        return 'PK:{0}, NAME:{1}, FK:{2}'.format(\n",
    "            self.pk, self.name, self.fk)\n",
    "\n",
    "\n",
    "    \n",
    "class Track(base):\n",
    "    __tablename__ = 'Track'\n",
    "    \n",
    "    pk = Column('id', Integer, primary_key=True)\n",
    "    name = Column('title', String)\n",
    "    fk1 = Column('Album_id', Integer, ForeignKey('Album.id'))\n",
    "    fk2 = Column('Genre_id', Integer, ForeignKey('Genre.id'))\n",
    "    album = relationship('Album', back_populates='tracklist',\n",
    "                            uselist=False)\n",
    "    genre = relationship('Genre', back_populates='tracklist',\n",
    "                            uselist=False)\n",
    "    \n",
    "    def __repr__(self):\n",
    "        return 'PK:{0}, NAME:{1}, FK1:{2}, FK2:{3}'.format(\n",
    "            self.pk, self.name, self.fk1, self.fk2)\n",
    "    \n",
    "    "
   ]
  },
  {
   "cell_type": "code",
   "execution_count": 4,
   "metadata": {},
   "outputs": [
    {
     "name": "stdout",
     "output_type": "stream",
     "text": [
      "2020-07-15 12:20:28,606 INFO sqlalchemy.engine.base.Engine SELECT CAST('test plain returns' AS VARCHAR(60)) AS anon_1\n",
      "2020-07-15 12:20:28,609 INFO sqlalchemy.engine.base.Engine ()\n",
      "2020-07-15 12:20:28,609 INFO sqlalchemy.engine.base.Engine SELECT CAST('test unicode returns' AS VARCHAR(60)) AS anon_1\n",
      "2020-07-15 12:20:28,610 INFO sqlalchemy.engine.base.Engine ()\n",
      "2020-07-15 12:20:28,611 INFO sqlalchemy.engine.base.Engine PRAGMA main.table_info(\"Artist\")\n",
      "2020-07-15 12:20:28,611 INFO sqlalchemy.engine.base.Engine ()\n",
      "2020-07-15 12:20:28,613 INFO sqlalchemy.engine.base.Engine PRAGMA main.table_info(\"Genre\")\n",
      "2020-07-15 12:20:28,614 INFO sqlalchemy.engine.base.Engine ()\n",
      "2020-07-15 12:20:28,615 INFO sqlalchemy.engine.base.Engine PRAGMA main.table_info(\"Album\")\n",
      "2020-07-15 12:20:28,615 INFO sqlalchemy.engine.base.Engine ()\n",
      "2020-07-15 12:20:28,616 INFO sqlalchemy.engine.base.Engine PRAGMA main.table_info(\"Track\")\n",
      "2020-07-15 12:20:28,617 INFO sqlalchemy.engine.base.Engine ()\n"
     ]
    }
   ],
   "source": [
    "base.metadata.create_all(bind=engine)"
   ]
  },
  {
   "cell_type": "code",
   "execution_count": 5,
   "metadata": {},
   "outputs": [],
   "source": [
    "from sqlalchemy.orm import sessionmaker\n",
    "\n",
    "Session = sessionmaker(bind=engine)\n",
    "session = Session()\n"
   ]
  },
  {
   "cell_type": "code",
   "execution_count": null,
   "metadata": {},
   "outputs": [],
   "source": [
    "a1 = Artist(name='A1')\n",
    "session.add(a1)"
   ]
  },
  {
   "cell_type": "code",
   "execution_count": 6,
   "metadata": {},
   "outputs": [
    {
     "name": "stdout",
     "output_type": "stream",
     "text": [
      "2020-07-15 12:20:29,816 INFO sqlalchemy.engine.base.Engine BEGIN (implicit)\n",
      "2020-07-15 12:20:29,817 INFO sqlalchemy.engine.base.Engine SELECT \"Genre\".id AS \"Genre_id\", \"Genre\".title AS \"Genre_title\" \n",
      "FROM \"Genre\"\n",
      "2020-07-15 12:20:29,817 INFO sqlalchemy.engine.base.Engine ()\n"
     ]
    }
   ],
   "source": [
    "genrelist = session.query(Genre).all()"
   ]
  },
  {
   "cell_type": "code",
   "execution_count": 7,
   "metadata": {},
   "outputs": [
    {
     "name": "stdout",
     "output_type": "stream",
     "text": [
      "2020-07-15 12:20:34,409 INFO sqlalchemy.engine.base.Engine SELECT \"Track\".id AS \"Track_id\", \"Track\".title AS \"Track_title\", \"Track\".\"Album_id\" AS \"Track_Album_id\", \"Track\".\"Genre_id\" AS \"Track_Genre_id\" \n",
      "FROM \"Track\" \n",
      "WHERE ? = \"Track\".\"Genre_id\"\n",
      "2020-07-15 12:20:34,410 INFO sqlalchemy.engine.base.Engine (2,)\n",
      "2020-07-15 12:20:34,412 INFO sqlalchemy.engine.base.Engine SELECT \"Album\".id AS \"Album_id\", \"Album\".title AS \"Album_title\", \"Album\".\"Artist_id\" AS \"Album_Artist_id\" \n",
      "FROM \"Album\" \n",
      "WHERE \"Album\".id = ?\n",
      "2020-07-15 12:20:34,412 INFO sqlalchemy.engine.base.Engine (1,)\n"
     ]
    },
    {
     "data": {
      "text/plain": [
       "(PK:3, NAME:About to Rock, FK1:1, FK2:2, 'IV')"
      ]
     },
     "execution_count": 7,
     "metadata": {},
     "output_type": "execute_result"
    }
   ],
   "source": [
    "genrelist[1].tracklist[0], genrelist[1].tracklist[0].album.name"
   ]
  },
  {
   "cell_type": "code",
   "execution_count": 9,
   "metadata": {},
   "outputs": [],
   "source": [
    "# session.add(Track(name='TEST',\n",
    "#                  fk1=genrelist[1].tracklist[0].album.pk,\n",
    "#                  fk2=genrelist[1].pk))\n",
    "# session.commit()"
   ]
  },
  {
   "cell_type": "code",
   "execution_count": null,
   "metadata": {},
   "outputs": [],
   "source": []
  },
  {
   "cell_type": "code",
   "execution_count": null,
   "metadata": {},
   "outputs": [],
   "source": []
  },
  {
   "cell_type": "code",
   "execution_count": 10,
   "metadata": {},
   "outputs": [],
   "source": []
  },
  {
   "cell_type": "code",
   "execution_count": null,
   "metadata": {},
   "outputs": [],
   "source": []
  },
  {
   "cell_type": "code",
   "execution_count": null,
   "metadata": {},
   "outputs": [],
   "source": []
  },
  {
   "cell_type": "code",
   "execution_count": null,
   "metadata": {},
   "outputs": [],
   "source": []
  },
  {
   "cell_type": "code",
   "execution_count": null,
   "metadata": {},
   "outputs": [],
   "source": []
  },
  {
   "cell_type": "code",
   "execution_count": null,
   "metadata": {},
   "outputs": [],
   "source": []
  },
  {
   "cell_type": "code",
   "execution_count": null,
   "metadata": {},
   "outputs": [],
   "source": []
  }
 ],
 "metadata": {
  "kernelspec": {
   "display_name": "Python 3",
   "language": "python",
   "name": "python3"
  },
  "language_info": {
   "codemirror_mode": {
    "name": "ipython",
    "version": 3
   },
   "file_extension": ".py",
   "mimetype": "text/x-python",
   "name": "python",
   "nbconvert_exporter": "python",
   "pygments_lexer": "ipython3",
   "version": "3.7.7"
  }
 },
 "nbformat": 4,
 "nbformat_minor": 4
}
